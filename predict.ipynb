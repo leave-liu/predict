{
 "cells": [
  {
   "cell_type": "code",
   "execution_count": null,
   "metadata": {
    "collapsed": false
   },
   "outputs": [],
   "source": [
    "!unzip -oq /home/aistudio/data/data308355/data.zip"
   ]
  },
  {
   "cell_type": "code",
   "execution_count": 1,
   "metadata": {
    "collapsed": false
   },
   "outputs": [],
   "source": [
    "import pandas as pd\n",
    "import numpy as np\n",
    "from itertools import groupby\n",
    "\n",
    "%pylab inline\n",
    "import seaborn as sns\n",
    "\n",
    "PATH = './data/'"
   ]
  },
  {
   "cell_type": "code",
   "execution_count": 2,
   "metadata": {
    "collapsed": false
   },
   "outputs": [],
   "source": [
    "user_interaction = pd.read_csv(PATH + 'user_interaction_data.csv')\n",
    "user_portrait = pd.read_csv(PATH + 'user_portrait_data.csv')\n",
    "user_playback = pd.read_csv(PATH + 'user_playback_data.csv')\n",
    "\n",
    "app_launch = pd.read_csv(PATH + 'app_launch_logs.csv')\n",
    "video_related = pd.read_csv(PATH + 'video_related_data.csv')"
   ]
  },
  {
   "cell_type": "code",
   "execution_count": 3,
   "metadata": {
    "collapsed": false
   },
   "outputs": [],
   "source": [
    "user_portrait.head(2)"
   ]
  },
  {
   "cell_type": "code",
   "execution_count": 4,
   "metadata": {
    "collapsed": false
   },
   "outputs": [],
   "source": [
    "print(user_portrait.shape)\n",
    "for col in user_portrait.columns:\n",
    "    print(f'{col} \\t {user_portrait.dtypes[col]} {user_portrait[col].nunique()}')"
   ]
  },
  {
   "cell_type": "code",
   "execution_count": 5,
   "metadata": {
    "collapsed": false
   },
   "outputs": [],
   "source": [
    "user_portrait['user_id'].value_counts()"
   ]
  },
  {
   "cell_type": "code",
   "execution_count": 6,
   "metadata": {
    "collapsed": false
   },
   "outputs": [],
   "source": [
    "user_portrait[user_portrait['user_id'] == 10268855]"
   ]
  },
  {
   "cell_type": "code",
   "execution_count": 7,
   "metadata": {
    "collapsed": false
   },
   "outputs": [],
   "source": [
    "user_portrait = user_portrait.drop_duplicates()"
   ]
  },
  {
   "cell_type": "code",
   "execution_count": 8,
   "metadata": {
    "collapsed": false
   },
   "outputs": [],
   "source": [
    "user_portrait['device_type'].value_counts()"
   ]
  },
  {
   "cell_type": "code",
   "execution_count": 9,
   "metadata": {
    "collapsed": false
   },
   "outputs": [],
   "source": [
    "user_portrait['device_ram'] = user_portrait['device_ram'].apply(lambda x: str(x).split(';')[0])\n",
    "user_portrait['device_rom'] = user_portrait['device_rom'].apply(lambda x: str(x).split(';')[0])"
   ]
  },
  {
   "cell_type": "code",
   "execution_count": 10,
   "metadata": {
    "collapsed": false
   },
   "outputs": [],
   "source": [
    "sns.distplot(user_portrait['device_ram'])"
   ]
  },
  {
   "cell_type": "code",
   "execution_count": 11,
   "metadata": {
    "collapsed": false
   },
   "outputs": [],
   "source": [
    "sns.distplot(user_portrait['device_rom'])"
   ]
  },
  {
   "cell_type": "code",
   "execution_count": 12,
   "metadata": {
    "collapsed": false
   },
   "outputs": [],
   "source": [
    "user_portrait['sex'].value_counts()"
   ]
  },
  {
   "cell_type": "code",
   "execution_count": 13,
   "metadata": {
    "collapsed": false
   },
   "outputs": [],
   "source": [
    "sns.distplot(user_portrait['age'])"
   ]
  },
  {
   "cell_type": "code",
   "execution_count": 14,
   "metadata": {
    "collapsed": false
   },
   "outputs": [],
   "source": [
    "sns.distplot(user_portrait['education'])"
   ]
  },
  {
   "cell_type": "code",
   "execution_count": 15,
   "metadata": {
    "collapsed": false
   },
   "outputs": [],
   "source": [
    "sns.distplot(user_portrait['occupation_status'])"
   ]
  },
  {
   "cell_type": "code",
   "execution_count": 16,
   "metadata": {
    "collapsed": false
   },
   "outputs": [],
   "source": [
    "sns.distplot(user_portrait['territory_code'])"
   ]
  },
  {
   "cell_type": "code",
   "execution_count": 17,
   "metadata": {
    "collapsed": false
   },
   "outputs": [],
   "source": [
    "app_launch.head(2)"
   ]
  },
  {
   "cell_type": "code",
   "execution_count": 18,
   "metadata": {
    "collapsed": false
   },
   "outputs": [],
   "source": [
    "print(app_launch.shape)\n",
    "for col in app_launch.columns:\n",
    "    print(f'{col} \\t {app_launch.dtypes[col]} {app_launch[col].nunique()}')"
   ]
  },
  {
   "cell_type": "code",
   "execution_count": 19,
   "metadata": {
    "collapsed": false
   },
   "outputs": [],
   "source": [
    "app_launch['launch_type'].value_counts()"
   ]
  },
  {
   "cell_type": "code",
   "execution_count": 20,
   "metadata": {
    "collapsed": false
   },
   "outputs": [],
   "source": [
    "app_launch.groupby('user_id')['launch_type'].mean()"
   ]
  },
  {
   "cell_type": "code",
   "execution_count": 21,
   "metadata": {
    "collapsed": false
   },
   "outputs": [],
   "source": [
    "app_launch = app_launch.sort_values(by=['user_id', 'date'])"
   ]
  },
  {
   "cell_type": "code",
   "execution_count": 22,
   "metadata": {
    "collapsed": false
   },
   "outputs": [],
   "source": [
    "app_launch.head()"
   ]
  },
  {
   "cell_type": "code",
   "execution_count": 23,
   "metadata": {
    "collapsed": false
   },
   "outputs": [],
   "source": [
    "video_related.head(2)"
   ]
  },
  {
   "cell_type": "code",
   "execution_count": 24,
   "metadata": {
    "collapsed": false
   },
   "outputs": [],
   "source": [
    "sns.distplot(video_related['duration'])"
   ]
  },
  {
   "cell_type": "code",
   "execution_count": 25,
   "metadata": {
    "collapsed": false
   },
   "outputs": [],
   "source": [
    "user_playback.head()"
   ]
  },
  {
   "cell_type": "code",
   "execution_count": 26,
   "metadata": {
    "collapsed": false
   },
   "outputs": [],
   "source": [
    "user_interaction.head(2)"
   ]
  },
  {
   "cell_type": "code",
   "execution_count": 27,
   "metadata": {
    "collapsed": false
   },
   "outputs": [],
   "source": [
    "def count_launch_by_day(day1, day2):\n",
    "    u1 = set(app_launch[app_launch['date'].isin(day1)]['user_id'].unique())\n",
    "    u2 = set(app_launch[app_launch['date'].isin(day2)]['user_id'].unique())\n",
    "\n",
    "    print(len(u1&u2)/len(u1))\n",
    "\n",
    "count_launch_by_day([131], [132])"
   ]
  },
  {
   "cell_type": "code",
   "execution_count": 28,
   "metadata": {
    "collapsed": false
   },
   "outputs": [],
   "source": [
    "app_launch['date'].min(), app_launch['date'].max()"
   ]
  },
  {
   "cell_type": "code",
   "execution_count": 29,
   "metadata": {
    "collapsed": false
   },
   "outputs": [],
   "source": [
    "app_launch[app_launch['user_id'] == 10052988]"
   ]
  },
  {
   "cell_type": "code",
   "execution_count": 30,
   "metadata": {
    "collapsed": false
   },
   "outputs": [],
   "source": [
    "test_a = pd.read_csv('./data/test-a.csv')\n",
    "test_a"
   ]
  },
  {
   "cell_type": "code",
   "execution_count": 31,
   "metadata": {
    "collapsed": false
   },
   "outputs": [],
   "source": [
    "# del user_interaction, user_portrait, user_playback, app_launch, video_related\n",
    "\n",
    "!mkdir wsdm_model_data\n",
    "!python3 baseline_feature_engineering.py"
   ]
  },
  {
   "cell_type": "code",
   "execution_count": 32,
   "metadata": {
    "collapsed": false
   },
   "outputs": [],
   "source": [
    "!unzip -oq /home/aistudio/data/data308355/data.zip"
   ]
  },
  {
   "cell_type": "code",
   "execution_count": 33,
   "metadata": {
    "collapsed": false
   },
   "outputs": [],
   "source": [
    "import pandas as pd\n",
    "import numpy as np\n",
    "import json\n",
    "import math\n",
    "\n",
    "data_dir = \"./wsdm_model_data/\""
   ]
  },
  {
   "cell_type": "code",
   "execution_count": 34,
   "metadata": {
    "collapsed": false
   },
   "outputs": [],
   "source": [
    "# train data\n",
    "data = pd.read_csv(data_dir + \"train_data.txt\", sep=\"\\t\")\n",
    "data[\"launch_seq\"] = data.launch_seq.apply(lambda x: json.loads(x))\n",
    "data[\"playtime_seq\"] = data.playtime_seq.apply(lambda x: json.loads(x))\n",
    "data[\"duration_prefer\"] = data.duration_prefer.apply(lambda x: json.loads(x))\n",
    "data[\"interact_prefer\"] = data.interact_prefer.apply(lambda x: json.loads(x))\n",
    "# shuffle data\n",
    "data = data.sample(frac=1).reset_index(drop=True)"
   ]
  },
  {
   "cell_type": "code",
   "execution_count": 35,
   "metadata": {
    "collapsed": false
   },
   "outputs": [],
   "source": [
    "data['label'].plot.hist()"
   ]
  },
  {
   "cell_type": "code",
   "execution_count": 36,
   "metadata": {
    "collapsed": false
   },
   "outputs": [],
   "source": [
    "def set_weight(row):\r\n",
    "    if row['label']== 2 or row['label']==3 :\r\n",
    "        return 60\r\n",
    "    elif row['label']==1  :\r\n",
    "        return 30\r\n",
    "    elif row['label']==4 :\r\n",
    "        return 20\r\n",
    "    elif row['label']==5 or row['label']==6 :\r\n",
    "        return 10\r\n",
    "    else:\r\n",
    "        return 5\r\n",
    "    \r\n",
    "data['sample_weight'] = data.apply(set_weight,axis=1)"
   ]
  },
  {
   "cell_type": "code",
   "execution_count": 37,
   "metadata": {
    "collapsed": false
   },
   "outputs": [],
   "source": [
    "sample_data = data[(data['label']!=0) & (data['label']!=2)]\r\n",
    "tmp = data[data['label']==2].sample(n=120000,random_state=48,replace=True).reset_index(drop=True)\r\n",
    "sample_data = pd.concat([sample_data,tmp],axis=0)\r\n",
    "\r\n",
    "tmp = data[data['label']==0].sample(n=150000,random_state=48,replace=False).reset_index(drop=True)\r\n",
    "sample_data = pd.concat([sample_data,tmp],axis=0)\r\n",
    "\r\n",
    "sample_data.drop(columns =['sample_weight'],inplace=True)\r\n",
    "sample_data = sample_data.sample(frac=1).reset_index(drop=True)\r\n",
    "sample_data['label'].plot.hist()"
   ]
  },
  {
   "cell_type": "code",
   "execution_count": 38,
   "metadata": {
    "collapsed": false
   },
   "outputs": [],
   "source": [
    "sample_data.columns"
   ]
  },
  {
   "cell_type": "code",
   "execution_count": 39,
   "metadata": {
    "collapsed": false
   },
   "outputs": [],
   "source": [
    "import paddle\n",
    "from paddle.io import DataLoader, Dataset\n",
    "\n",
    "class CoggleDataset(Dataset):\n",
    "    def __init__(self, df):\n",
    "        super(CoggleDataset, self).__init__()\n",
    "        self.df = df\n",
    "        self.feat_col = list(set(self.df.columns) - set(['user_id', 'end_date', 'label', 'launch_seq', 'playtime_seq', \n",
    "                'duration_prefer', 'interact_prefer']))\n",
    "        self.df_feat = self.df[self.feat_col]\n",
    "    \n",
    "    def __getitem__(self, index):\n",
    "        launch_seq = self.df['launch_seq'].iloc[index]\n",
    "        playtime_seq = self.df['playtime_seq'].iloc[index]\n",
    "        duration_prefer = self.df['duration_prefer'].iloc[index]\n",
    "        interact_prefer = self.df['interact_prefer'].iloc[index]\n",
    "\n",
    "        feat = self.df_feat.iloc[index].values.astype(np.float32)\n",
    "\n",
    "        launch_seq = paddle.to_tensor(launch_seq).astype(paddle.float32)\n",
    "        playtime_seq = paddle.to_tensor(playtime_seq).astype(paddle.float32)\n",
    "        duration_prefer = paddle.to_tensor(duration_prefer).astype(paddle.float32)\n",
    "        interact_prefer = paddle.to_tensor(interact_prefer).astype(paddle.float32)\n",
    "        feat = paddle.to_tensor(feat).astype(paddle.float32)\n",
    "\n",
    "        label = paddle.to_tensor(self.df['label'].iloc[index]).astype(paddle.float32)\n",
    "        return launch_seq, playtime_seq, duration_prefer, interact_prefer, feat, label\n",
    "\n",
    "    def __len__(self):\n",
    "        return len(self.df)"
   ]
  },
  {
   "cell_type": "code",
   "execution_count": 40,
   "metadata": {
    "collapsed": false
   },
   "outputs": [],
   "source": [
    "train_dataset = CoggleDataset(sample_data.iloc[:-600])\n",
    "val_dataset = CoggleDataset(sample_data.iloc[-600:])\n",
    "\n",
    "train_loader = DataLoader(train_dataset, batch_size=64, shuffle=True, num_workers=4)\n",
    "val_loader = DataLoader(val_dataset, batch_size=64, shuffle=False, num_workers=4)"
   ]
  },
  {
   "cell_type": "code",
   "execution_count": 41,
   "metadata": {
    "collapsed": false
   },
   "outputs": [],
   "source": [
    "test_data = pd.read_csv(data_dir + \"test_data.txt\", sep=\"\\t\")\n",
    "test_data[\"launch_seq\"] = test_data.launch_seq.apply(lambda x: json.loads(x))\n",
    "test_data[\"playtime_seq\"] = test_data.playtime_seq.apply(lambda x: json.loads(x))\n",
    "test_data[\"duration_prefer\"] = test_data.duration_prefer.apply(lambda x: json.loads(x))\n",
    "test_data[\"interact_prefer\"] = test_data.interact_prefer.apply(lambda x: json.loads(x))\n",
    "test_data['label'] = 0\n",
    "\n",
    "test_dataset = CoggleDataset(test_data)\n",
    "test_loader = DataLoader(test_dataset, batch_size=64, shuffle=False, num_workers=4)"
   ]
  },
  {
   "cell_type": "code",
   "execution_count": 42,
   "metadata": {
    "collapsed": false
   },
   "outputs": [],
   "source": [
    "test_data.shape"
   ]
  },
  {
   "cell_type": "code",
   "execution_count": 43,
   "metadata": {
    "collapsed": false
   },
   "outputs": [],
   "source": [
    "import paddle\n",
    "class CoggleModel(paddle.nn.Layer):\n",
    "    def __init__(self):\n",
    "        super(CoggleModel, self).__init__()\n",
    "        \n",
    "        self.launch_seq_gru = paddle.nn.GRU(1, 32)\n",
    "        self.playtime_seq_gru = paddle.nn.GRU(1, 32)\n",
    "        self.fc1 = paddle.nn.Linear(102, 64)\n",
    "        self.fc2 = paddle.nn.Linear(64, 1)\n",
    "\n",
    "    def forward(self, launch_seq, playtime_seq, duration_prefer, interact_prefer, feat):\n",
    "        launch_seq = launch_seq.reshape((-1, 32, 1))\n",
    "        playtime_seq = playtime_seq.reshape((-1, 32, 1))\n",
    "\n",
    "        launch_seq_feat = self.launch_seq_gru(launch_seq)[0][:, :, 0]\n",
    "        playtime_seq_feat = self.playtime_seq_gru(playtime_seq)[0][:, :, 0]\n",
    "        \n",
    "        all_feat = paddle.concat([launch_seq_feat, playtime_seq_feat, duration_prefer, interact_prefer, feat], 1)\n",
    "        all_feat_fc1 = self.fc1(all_feat)\n",
    "        all_feat_fc2 = self.fc2(all_feat_fc1)\n",
    "\n",
    "        return all_feat_fc2\n",
    "\n",
    "model = CoggleModel()"
   ]
  },
  {
   "cell_type": "code",
   "execution_count": 44,
   "metadata": {
    "collapsed": false
   },
   "outputs": [],
   "source": [
    "from tqdm import tqdm\n",
    "import warnings\n",
    "warnings.filterwarnings(\"ignore\")\n",
    "\n",
    "optimizer = paddle.optimizer.Adam(parameters=model.parameters(), learning_rate=0.001)\n",
    "criterion = paddle.nn.MSELoss()\n",
    "\n",
    "def train(model, train_loader, optimizer, criterion):\n",
    "    model.train()\n",
    "    train_loss = []\n",
    "    for launch_seq, playtime_seq, duration_prefer, interact_prefer, feat, label in tqdm(train_loader):\n",
    "        pred = model(launch_seq, playtime_seq, duration_prefer, interact_prefer, feat)\n",
    "\n",
    "        loss = criterion(pred, label)\n",
    "        loss.backward()\n",
    "        optimizer.step()\n",
    "        optimizer.clear_grad()\n",
    "        train_loss.append(loss.item())\n",
    "    return np.mean(train_loss)\n",
    "\n",
    "\n",
    "def validate(model, val_loader, optimizer, criterion):\n",
    "    model.eval()\n",
    "    val_loss = []\n",
    "    for launch_seq, playtime_seq, duration_prefer, interact_prefer, feat, label in tqdm(val_loader):\n",
    "        pred = model(launch_seq, playtime_seq, duration_prefer, interact_prefer, feat)\n",
    "\n",
    "        loss = criterion(pred, label)\n",
    "        loss.backward()\n",
    "        optimizer.step()\n",
    "        optimizer.clear_grad()\n",
    "        val_loss.append(loss.item())\n",
    "\n",
    "    return np.mean(val_loss)\n",
    "\n",
    "def predict(model, test_loader):\n",
    "    model.eval()\n",
    "    test_pred = []\n",
    "    for launch_seq, playtime_seq, duration_prefer, interact_prefer, feat, label in tqdm(test_loader):\n",
    "        pred = model(launch_seq, playtime_seq, duration_prefer, interact_prefer, feat)\n",
    "        test_pred.append(pred.numpy())\n",
    "\n",
    "    return test_pred"
   ]
  },
  {
   "cell_type": "code",
   "execution_count": 45,
   "metadata": {
    "collapsed": false
   },
   "outputs": [],
   "source": [
    "for epoch in range(5):\n",
    "    train_loss = train(model, train_loader, optimizer, criterion)\n",
    "    val_loss = validate(model, val_loader, optimizer, criterion)\n",
    "\n",
    "    print(epoch, train_loss, val_loss)"
   ]
  },
  {
   "cell_type": "code",
   "execution_count": 46,
   "metadata": {
    "collapsed": false
   },
   "outputs": [],
   "source": [
    "test_pred = predict(model, test_loader)\n",
    "test_pred = np.vstack(test_pred)"
   ]
  },
  {
   "cell_type": "code",
   "execution_count": 47,
   "metadata": {
    "collapsed": false
   },
   "outputs": [],
   "source": [
    "test_data[\"prediction\"] = test_pred[:, 0]\n",
    "test_data = test_data[[\"user_id\", \"prediction\"]]"
   ]
  },
  {
   "cell_type": "code",
   "execution_count": 48,
   "metadata": {
    "collapsed": false
   },
   "outputs": [],
   "source": [
    "test_pred.max()"
   ]
  },
  {
   "cell_type": "code",
   "execution_count": 49,
   "metadata": {
    "collapsed": false
   },
   "outputs": [],
   "source": [
    "test_data['prediction'][test_data['prediction']<0.8]=0\r\n",
    "test_data['prediction'][test_data['prediction']>7]=7\r\n",
    "test_data['prediction'] = np.round(test_data['prediction'])\r\n",
    "# can clip outputs to [0, 7] or use other tricks\r\n",
    "test_data.to_csv(\"./baseline_submission.csv\", index=False, header=False, float_format=\"%.2f\")"
   ]
  },
  {
   "cell_type": "code",
   "execution_count": 50,
   "metadata": {
    "collapsed": false
   },
   "outputs": [],
   "source": [
    "data['label'].plot.hist()"
   ]
  },
  {
   "cell_type": "code",
   "execution_count": 51,
   "metadata": {
    "collapsed": false
   },
   "outputs": [],
   "source": [
    "test_data['prediction'].plot.hist()"
   ]
  }
 ],
 "metadata": {
  "kernelspec": {
   "display_name": "Python 3",
   "language": "python",
   "name": "py35-paddle1.2.0"
  },
  "language_info": {
   "codemirror_mode": {
    "name": "ipython",
    "version": 3
   },
   "file_extension": ".py",
   "mimetype": "text/x-python",
   "name": "python",
   "nbconvert_exporter": "python",
   "pygments_lexer": "ipython3",
   "version": "3.7.4"
  }
 },
 "nbformat": 4,
 "nbformat_minor": 1
}
